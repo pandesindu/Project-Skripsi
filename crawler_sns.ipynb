{
 "cells": [
  {
   "cell_type": "code",
   "execution_count": 4,
   "metadata": {},
   "outputs": [],
   "source": [
    "# program for scape twitter data by using snsscrape\n",
    "# input is keyword and number of tweets\n",
    "# output is csv file\n",
    "\n",
    "import snscrape.modules.twitter as sntwitter\n",
    "import pandas as pd\n",
    "import csv\n"
   ]
  },
  {
   "cell_type": "code",
   "execution_count": 20,
   "metadata": {},
   "outputs": [
    {
     "name": "stderr",
     "output_type": "stream",
     "text": [
      "C:\\Users\\sindu\\AppData\\Local\\Temp/ipykernel_5256/3899585996.py:12: FutureWarning: content is deprecated, use rawContent instead\n",
      "  data.append([tweet.date, tweet.user.username, tweet.content])\n"
     ]
    },
    {
     "name": "stdout",
     "output_type": "stream",
     "text": [
      "                         Date           User  \\\n",
      "0   2023-02-04 13:12:37+00:00       IDCorner   \n",
      "1   2023-01-19 12:57:56+00:00     chanzyeolk   \n",
      "2   2022-12-28 07:47:08+00:00    poohbeear73   \n",
      "3   2022-12-15 06:05:00+00:00  airlanggafess   \n",
      "4   2022-11-17 15:00:58+00:00         nfpxxx   \n",
      "..                        ...            ...   \n",
      "747 2010-08-06 16:41:02+00:00    mahtumnizar   \n",
      "748 2010-06-22 01:09:03+00:00         jiluth   \n",
      "749 2010-05-20 08:48:25+00:00    fahmiashadi   \n",
      "750 2010-03-11 13:03:06+00:00     feliciajiu   \n",
      "751 2010-02-18 10:30:39+00:00     icaruswika   \n",
      "\n",
      "                                                 Tweet  \n",
      "0    AKBP (Purn) Eko Bersedih Usai Kecelakaan Mahas...  \n",
      "1    Saya sangat bersedih melihat sekolah2 negeri, ...  \n",
      "2    oalah jadi karena ini ya libur nya mahasiswa i...  \n",
      "3    Sebagai pecinta Huang Renjun, sender adalah se...  \n",
      "4    sedih pol krn diingat sbg mahasiswa rawan tipe...  \n",
      "..                                                 ...  \n",
      "747  yahhh,, yg sabar yaa... :turut bersedih: RT @p...  \n",
      "748  hahaha ya ya ya  saya turut bersedih RT @ditaf...  \n",
      "749  Masih aja kejadian spt ini. Turut bersedih RT ...  \n",
      "750  sangat turut bersedih atas di phknya dosen\" ib...  \n",
      "751  Pastii, haha RT @vheanzela: Haha mahasiswa jat...  \n",
      "\n",
      "[752 rows x 3 columns]\n"
     ]
    }
   ],
   "source": [
    "# input keyword and number of tweets\n",
    "keyword = input(\"Masukkan keyword yang ingin dicari: \")\n",
    "number_of_tweets = int(input(\"Masukkan berapa banyak tweets yang ingin dicari: \"))\n",
    "# create dataframe\n",
    "# columns = ['Time', 'User Id', 'User', 'Verified', 'user Description', 'Lokasi', 'Jumlah Like', 'Source Tweet', 'Jumlah Retweet', 'Tweet', 'URL']\n",
    "data = []\n",
    "\n",
    "# scrape twitter data\n",
    "for i,tweet in enumerate(sntwitter.TwitterSearchScraper(keyword).get_items()):\n",
    "    if i>number_of_tweets:\n",
    "        break\n",
    "    data.append([tweet.date, tweet.user.username, tweet.content])\n",
    "    # data.append([tweet.date, tweet.user.id, tweet.user.username, tweet.user.verified, tweet.user.description, tweet.user.location, tweet.likeCount, tweet.source, tweet.retweetCount, tweet.content, tweet.user.url])\n",
    "\n",
    "# create dataframe\n",
    "df = pd.DataFrame(data, columns=['Date', 'User', 'Tweet'])\n",
    "print(df)\n",
    "\n"
   ]
  },
  {
   "cell_type": "code",
   "execution_count": 21,
   "metadata": {},
   "outputs": [],
   "source": [
    "# make csv\n",
    "df.to_csv('tweet_.csv', index=False, encoding='utf-8')\n",
    "\n",
    "#"
   ]
  }
 ],
 "metadata": {
  "kernelspec": {
   "display_name": "base",
   "language": "python",
   "name": "python3"
  },
  "language_info": {
   "codemirror_mode": {
    "name": "ipython",
    "version": 3
   },
   "file_extension": ".py",
   "mimetype": "text/x-python",
   "name": "python",
   "nbconvert_exporter": "python",
   "pygments_lexer": "ipython3",
   "version": "3.9.7"
  },
  "orig_nbformat": 4,
  "vscode": {
   "interpreter": {
    "hash": "f841c027a94e22728f5179c0c6c5af6e62db73239c2b85bb73dfa9e86bb880d5"
   }
  }
 },
 "nbformat": 4,
 "nbformat_minor": 2
}
